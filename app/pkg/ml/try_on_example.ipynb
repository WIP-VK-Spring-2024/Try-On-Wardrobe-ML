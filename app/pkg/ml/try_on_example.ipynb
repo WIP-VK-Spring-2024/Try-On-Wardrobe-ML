{
 "cells": [
  {
   "cell_type": "code",
   "execution_count": 3,
   "metadata": {},
   "outputs": [],
   "source": [
    "#\n",
    "#                       |->dense pose---------->|\n",
    "#human-image -> resize -|->pose---------------->|\n",
    "#                       |->human parsing------->|\n",
    "#                                               |-->try_on_model                            \n",
    "#                                               |\n",
    "#                                               |\n",
    "# cloth-image -> remove background -> resize -->|\n",
    "#"
   ]
  },
  {
   "cell_type": "code",
   "execution_count": 2,
   "metadata": {},
   "outputs": [],
   "source": [
    "from try_on.preprocessing.preprocessing import Resizer"
   ]
  },
  {
   "cell_type": "code",
   "execution_count": null,
   "metadata": {},
   "outputs": [],
   "source": [
    "# Image resize\n",
    "prepr = Resizer()\n",
    "prepr('/usr/src/app/data/example/human.png', '/usr/src/app/volume/data/resized/resized_human.png')"
   ]
  }
 ],
 "metadata": {
  "kernelspec": {
   "display_name": "Python 3",
   "language": "python",
   "name": "python3"
  },
  "language_info": {
   "codemirror_mode": {
    "name": "ipython",
    "version": 3
   },
   "file_extension": ".py",
   "mimetype": "text/x-python",
   "name": "python",
   "nbconvert_exporter": "python",
   "pygments_lexer": "ipython3",
   "version": "3.10.12"
  }
 },
 "nbformat": 4,
 "nbformat_minor": 2
}
