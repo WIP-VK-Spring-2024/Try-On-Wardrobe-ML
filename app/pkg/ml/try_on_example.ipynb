{
 "cells": [
  {
   "cell_type": "code",
   "execution_count": 3,
   "metadata": {},
   "outputs": [],
   "source": [
    "#\n",
    "#                       |->dense pose---------------------->|\n",
    "# human-image ->resize->|->pose---------------------------->|\n",
    "#                       |->human parsing------------------->|\n",
    "#                                                           |-->try_on_model                            \n",
    "#                                                           |\n",
    "#                                                           |\n",
    "# cloth-image -> remove background + crop&pad-> resize ---->|\n",
    "#                                        |\n",
    "#                                        |\n",
    "#                               can use it for client\n"
   ]
  },
  {
   "cell_type": "markdown",
   "metadata": {},
   "source": [
    "#### При иницализации моделей выделяется гпу память. \n",
    "#### Рекомендуется не запускать одну и ту же ячейку множество раз. Чтобы освободить гпу необходимо перезапустить ноутбук"
   ]
  },
  {
   "cell_type": "code",
   "execution_count": 2,
   "metadata": {},
   "outputs": [],
   "source": [
    "from try_on.preprocessing.preprocessing import Resizer\n",
    "from try_on.preprocessing.dense_pose import DensePoseEstimation\n",
    "from try_on.preprocessing.pose import PoseEstimation\n",
    "from try_on.preprocessing.human_parsing import HumanParsing\n"
   ]
  },
  {
   "cell_type": "code",
   "execution_count": 3,
   "metadata": {},
   "outputs": [],
   "source": [
    "# Human resize\n",
    "prepr = Resizer()\n",
    "prepr('/usr/src/app/data/example/human.png', '/usr/src/app/volume/data/resized/human_resized.png')"
   ]
  },
  {
   "cell_type": "code",
   "execution_count": 6,
   "metadata": {},
   "outputs": [
    {
     "name": "stderr",
     "output_type": "stream",
     "text": [
      "/usr/local/lib/python3.10/dist-packages/tqdm/auto.py:21: TqdmWarning: IProgress not found. Please update jupyter and ipywidgets. See https://ipywidgets.readthedocs.io/en/stable/user_install.html\n",
      "  from .autonotebook import tqdm as notebook_tqdm\n",
      "The cache for model files in Transformers v4.22.0 has been updated. Migrating your old cache. This is a one-time only operation. You can interrupt this and resume the migration later on by calling `transformers.utils.move_cache()`.\n",
      "0it [00:00, ?it/s]\n",
      "/usr/local/lib/python3.10/dist-packages/torch/functional.py:504: UserWarning: torch.meshgrid: in an upcoming release, it will be required to pass the indexing argument. (Triggered internally at ../aten/src/ATen/native/TensorShape.cpp:3483.)\n",
      "  return _VF.meshgrid(tensors, **kwargs)  # type: ignore[attr-defined]\n"
     ]
    }
   ],
   "source": [
    "dpe = DensePoseEstimation()\n",
    "dpe(\n",
    "    \"/usr/src/app/volume/data/resized/human_resized.png\",\n",
    "    \"/usr/src/app/volume/data/dense_pose/dense_pose_human.png\",\n",
    "    \"/usr/src/app/volume/data/dense_pose/dense_pose_human.npz\",\n",
    "    )"
   ]
  },
  {
   "cell_type": "code",
   "execution_count": 2,
   "metadata": {},
   "outputs": [],
   "source": [
    "pe = PoseEstimation()\n",
    "pe(\n",
    "    \"/usr/src/app/volume/data/resized/human_resized.png\",\n",
    "    \"/usr/src/app/volume/data/pose/keypoints.json\",\n",
    "    \"/usr/src/app/volume/data/pose/posed_human.png\",\n",
    "    )\n"
   ]
  },
  {
   "cell_type": "code",
   "execution_count": 2,
   "metadata": {},
   "outputs": [],
   "source": [
    "hp = HumanParsing()\n",
    "hp(\n",
    "    \"/usr/src/app/volume/data/resized/resized_human.png\",\n",
    "    \"/usr/src/app/volume/data/parsed/parsed_human.png\",\n",
    "    )\n"
   ]
  },
  {
   "cell_type": "code",
   "execution_count": 1,
   "metadata": {},
   "outputs": [
    {
     "name": "stderr",
     "output_type": "stream",
     "text": [
      "/usr/local/lib/python3.10/dist-packages/tqdm/auto.py:21: TqdmWarning: IProgress not found. Please update jupyter and ipywidgets. See https://ipywidgets.readthedocs.io/en/stable/user_install.html\n",
      "  from .autonotebook import tqdm as notebook_tqdm\n"
     ]
    }
   ],
   "source": [
    "# cloth processing\n",
    "from try_on.preprocessing.preprocessing import Resizer\n",
    "from try_on.preprocessing.cloth import ClothPreprocessor\n",
    "\n",
    "prepr = Resizer()\n",
    "cp = ClothPreprocessor()\n",
    "cp.remove_background('/usr/src/app/data/example/t_shirt.png',\n",
    "    '/usr/src/app/volume/data/no_background/t-shirt.png'\n",
    "    )\n",
    "cp.crop_and_pad('/usr/src/app/volume/data/no_background/t-shirt.png', \"/usr/src/app/volume/data/no_background/t-shirt_rc.png\")\n",
    "\n",
    "prepr(\"/usr/src/app/volume/data/no_background/t-shirt_rc.png\", \"/usr/src/app/volume/data/no_background/resized_t-shirt.png\")"
   ]
  },
  {
   "cell_type": "code",
   "execution_count": 1,
   "metadata": {},
   "outputs": [
    {
     "name": "stderr",
     "output_type": "stream",
     "text": [
      "/usr/local/lib/python3.10/dist-packages/tqdm/auto.py:21: TqdmWarning: IProgress not found. Please update jupyter and ipywidgets. See https://ipywidgets.readthedocs.io/en/stable/user_install.html\n",
      "  from .autonotebook import tqdm as notebook_tqdm\n"
     ]
    }
   ],
   "source": [
    "# from try_on.preprocessing.preprocessing import Resizer\n",
    "# from try_on.preprocessing.cloth import ClothPreprocessor\n",
    "\n",
    "# prepr = Resizer()\n",
    "# prepr(\"/usr/src/app/volume/data/no_background/t-shirt_rc.png\", \"/usr/src/app/volume/data/no_background/resized_t-shirt.png\")"
   ]
  }
 ],
 "metadata": {
  "kernelspec": {
   "display_name": "Python 3",
   "language": "python",
   "name": "python3"
  },
  "language_info": {
   "codemirror_mode": {
    "name": "ipython",
    "version": 3
   },
   "file_extension": ".py",
   "mimetype": "text/x-python",
   "name": "python",
   "nbconvert_exporter": "python",
   "pygments_lexer": "ipython3",
   "version": "3.10.12"
  }
 },
 "nbformat": 4,
 "nbformat_minor": 2
}
