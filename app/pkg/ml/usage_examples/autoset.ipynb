{
 "cells": [
  {
   "cell_type": "code",
   "execution_count": 1,
   "metadata": {},
   "outputs": [
    {
     "data": {
      "text/plain": [
       "<module 'app' from '/usr/src/app/app/__init__.py'>"
      ]
     },
     "execution_count": 1,
     "metadata": {},
     "output_type": "execute_result"
    }
   ],
   "source": [
    "import sys\n",
    "import os\n",
    "os.environ[\"HF_ENDPOINT\"] = \"https://hf-mirror.com\"\n",
    "\n",
    "#sys.path.insert(0, \"/usr/src/app/app\")\n",
    "def import_path(fullpath):\n",
    "    \"\"\" \n",
    "    Import a file with full path specification. Allows one to\n",
    "    import from anywhere, something __import__ does not do. \n",
    "    \"\"\"\n",
    "    path, filename = os.path.split(fullpath)\n",
    "    filename, ext = os.path.splitext(filename)\n",
    "    sys.path.append(path)\n",
    "    module = __import__(filename)\n",
    "   # reload(module) # Might be out of date\n",
    "    del sys.path[-1]\n",
    "    return module\n",
    "\n",
    "import_path(\"/usr/src/app/app\")"
   ]
  },
  {
   "cell_type": "code",
   "execution_count": 2,
   "metadata": {},
   "outputs": [
    {
     "name": "stderr",
     "output_type": "stream",
     "text": [
      "/usr/local/lib/python3.10/dist-packages/tqdm/auto.py:21: TqdmWarning: IProgress not found. Please update jupyter and ipywidgets. See https://ipywidgets.readthedocs.io/en/stable/user_install.html\n",
      "  from .autonotebook import tqdm as notebook_tqdm\n"
     ]
    }
   ],
   "source": [
    "from app.pkg.ml.try_on.preprocessing.aggregator import ClothProcessor,  BackgroundModels\n",
    "\n",
    "cp = ClothProcessor(BackgroundModels.SegFormerB3)"
   ]
  },
  {
   "cell_type": "code",
   "execution_count": 3,
   "metadata": {},
   "outputs": [],
   "source": [
    "import os\n",
    "from app.pkg.ml.auto_clothing_set.autoset import LocalRecSys\n",
    "\n",
    "from app.pkg.ml.buffer_converters import BytesConverter\n",
    "from PIL import Image\n",
    "from app.pkg.models.app.image_category import ImageCategory\n",
    "import random\n",
    "bc = BytesConverter()\n",
    "\n",
    "\n",
    "DATA_PATH = \"/usr/src/app/data\"\n",
    "def read_clothes(sub_folder):\n",
    "    \n",
    "    images_folder = os.path.join(DATA_PATH, sub_folder)\n",
    "    assert os.path.exists(images_folder)\n",
    "    im_paths = os.listdir(images_folder)\n",
    "    abs_im_path = [os.path.join(images_folder, im_path) for im_path in im_paths]\n",
    "    return abs_im_path\n",
    "\n",
    "\n",
    "outerwear_clothes_paths = read_clothes(\"outerwear\") # [\"/usr/src/app/data/upper/b_bloose.png\", \"/usr/src/app/data/upper/b_jacket.png\"]\n",
    "upper_clothes_paths = read_clothes(\"upper\") # [ \"/usr/src/app/data/upper/t-shirt-blue.png\",\"/usr/src/app/data/upper/t-shirt-miami.png\", \"/usr/src/app/data/upper/b_t-shirt-2.png\", \"/usr/src/app/data/upper/b_t-shirt-3.png\", \"/usr/src/app/data/upper/t-shirt-dc.png\", \"/usr/src/app/data/upper/t-shirt-dc2.png\", \"/usr/src/app/data/upper/t-shirt.png\" ]\n",
    "lower_clothes_paths = read_clothes(\"lower\")  # [\"/usr/src/app/data/lower/b_black_jeans.png\", \"/usr/src/app/data/lower/b_shorts.png\", \"/usr/src/app/data/lower/jeans-dc.png\", \"/usr/src/app/data/lower/shorts-dc.png\" ]\n",
    "dress_clothes_paths = read_clothes(\"dresses\") # [\"/usr/src/app/data/dresses/1.png\", \"/usr/src/app/data/dresses/2.png\", \"/usr/src/app/data/dresses/dress-dc.png\"]\n",
    "\n",
    "user_images = [f\"{DATA_PATH}/human/brayan_krenston.png\"]\n",
    "\n",
    "def convert_cloth_to_dict(x, category=None):\n",
    "    res = []\n",
    "    for i in x:\n",
    "        image = Image.open(i)\n",
    "        im_no_back = cp.model_background(image)\n",
    "        im_bytes = bc.image_to_bytes(im_no_back)\n",
    "        res.append({'cloth':im_bytes, 'category':category, \"clothes_id\":random.randint(0, 9999)})\n",
    "    return res\n",
    "\n",
    "def convert_user_to_dict(x):\n",
    "    res = []\n",
    "    for i in x:\n",
    "        image = Image.open(i)\n",
    "        im_no_back = cp.model_background(image)\n",
    "        im_bytes = bc.image_to_bytes(im_no_back)\n",
    "        res.append({'image':im_bytes,})\n",
    "    return res\n",
    "\n",
    "#        im_white_back = cp.model_background.replace_background_RGBA(im_no_back)\n",
    "\n",
    "\n",
    "upper_clothes = convert_cloth_to_dict(upper_clothes_paths, ImageCategory.UPPER_BODY)\n",
    "lower_clothes = convert_cloth_to_dict(lower_clothes_paths, ImageCategory.LOWER_BODY)\n",
    "dress_clothes = convert_cloth_to_dict(dress_clothes_paths, ImageCategory.DRESSES)\n",
    "outerwear_clothes = convert_cloth_to_dict(outerwear_clothes_paths, ImageCategory.UPPER_BODY)\n",
    "user_images = convert_user_to_dict(user_images)\n"
   ]
  },
  {
   "cell_type": "code",
   "execution_count": 4,
   "metadata": {},
   "outputs": [],
   "source": [
    "# upper_clothes"
   ]
  },
  {
   "cell_type": "code",
   "execution_count": 1,
   "metadata": {},
   "outputs": [],
   "source": [
    "# bc.bytes_to_image(lower_clothes[2]['cloth'])"
   ]
  },
  {
   "cell_type": "code",
   "execution_count": 1,
   "metadata": {},
   "outputs": [
    {
     "name": "stderr",
     "output_type": "stream",
     "text": [
      "/usr/local/lib/python3.10/dist-packages/tqdm/auto.py:21: TqdmWarning: IProgress not found. Please update jupyter and ipywidgets. See https://ipywidgets.readthedocs.io/en/stable/user_install.html\n",
      "  from .autonotebook import tqdm as notebook_tqdm\n"
     ]
    },
    {
     "ename": "ModuleNotFoundError",
     "evalue": "No module named 'app'",
     "output_type": "error",
     "traceback": [
      "\u001b[0;31m---------------------------------------------------------------------------\u001b[0m",
      "\u001b[0;31mModuleNotFoundError\u001b[0m                       Traceback (most recent call last)",
      "Cell \u001b[0;32mIn[1], line 10\u001b[0m\n\u001b[1;32m      7\u001b[0m \u001b[38;5;28;01mfrom\u001b[39;00m \u001b[38;5;21;01mPIL\u001b[39;00m \u001b[38;5;28;01mimport\u001b[39;00m Image\n\u001b[1;32m      8\u001b[0m \u001b[38;5;28;01mimport\u001b[39;00m \u001b[38;5;21;01mnumpy\u001b[39;00m \u001b[38;5;28;01mas\u001b[39;00m \u001b[38;5;21;01mnp\u001b[39;00m\n\u001b[0;32m---> 10\u001b[0m \u001b[38;5;28;01mfrom\u001b[39;00m \u001b[38;5;21;01mapp\u001b[39;00m\u001b[38;5;21;01m.\u001b[39;00m\u001b[38;5;21;01mpkg\u001b[39;00m\u001b[38;5;21;01m.\u001b[39;00m\u001b[38;5;21;01mml\u001b[39;00m\u001b[38;5;21;01m.\u001b[39;00m\u001b[38;5;21;01mbuffer_converters\u001b[39;00m \u001b[38;5;28;01mimport\u001b[39;00m BytesConverter\n\u001b[1;32m     11\u001b[0m \u001b[38;5;28;01mfrom\u001b[39;00m \u001b[38;5;21;01mapp\u001b[39;00m\u001b[38;5;21;01m.\u001b[39;00m\u001b[38;5;21;01mpkg\u001b[39;00m\u001b[38;5;21;01m.\u001b[39;00m\u001b[38;5;21;01mml\u001b[39;00m\u001b[38;5;21;01m.\u001b[39;00m\u001b[38;5;21;01mtry_on\u001b[39;00m\u001b[38;5;21;01m.\u001b[39;00m\u001b[38;5;21;01mpreprocessing\u001b[39;00m\u001b[38;5;21;01m.\u001b[39;00m\u001b[38;5;21;01mcloth\u001b[39;00m \u001b[38;5;28;01mimport\u001b[39;00m ClothPreprocessor\n",
      "\u001b[0;31mModuleNotFoundError\u001b[0m: No module named 'app'"
     ]
    }
   ],
   "source": [
    "from typing import Dict, Union, List\n",
    "import io\n",
    "\n",
    "import torch\n",
    "from transformers import AutoProcessor, CLIPModel, AutoTokenizer\n",
    "from torch.nn import Softmax\n",
    "from PIL import Image\n",
    "import numpy as np\n",
    "\n",
    "from app.pkg.ml.buffer_converters import BytesConverter\n",
    "from app.pkg.ml.try_on.preprocessing.cloth import ClothPreprocessor"
   ]
  },
  {
   "cell_type": "code",
   "execution_count": null,
   "metadata": {},
   "outputs": [],
   "source": [
    "def sum_normalize(array):\n",
    "    if isinstance(array, list):\n",
    "        array = np.array(array)\n",
    "    return array/array.sum()\n",
    "# a = [0.1, 0.4, 0.4]\n",
    "# sum_normalize(a)"
   ]
  },
  {
   "cell_type": "code",
   "execution_count": null,
   "metadata": {},
   "outputs": [],
   "source": []
  },
  {
   "cell_type": "code",
   "execution_count": 2,
   "metadata": {},
   "outputs": [
    {
     "ename": "NameError",
     "evalue": "name 'LocalRecSys' is not defined",
     "output_type": "error",
     "traceback": [
      "\u001b[0;31m---------------------------------------------------------------------------\u001b[0m",
      "\u001b[0;31mNameError\u001b[0m                                 Traceback (most recent call last)",
      "Cell \u001b[0;32mIn[2], line 1\u001b[0m\n\u001b[0;32m----> 1\u001b[0m lrs \u001b[38;5;241m=\u001b[39m \u001b[43mLocalRecSys\u001b[49m(return_cloth_fields \u001b[38;5;241m=\u001b[39m [\u001b[38;5;124m\"\u001b[39m\u001b[38;5;124mclothes_id\u001b[39m\u001b[38;5;124m\"\u001b[39m])\n\u001b[1;32m      3\u001b[0m \u001b[38;5;66;03m# score не возвращается, т.к это уже часть outfit. return_cloth_fields - для\u001b[39;00m\n",
      "\u001b[0;31mNameError\u001b[0m: name 'LocalRecSys' is not defined"
     ]
    }
   ],
   "source": [
    "lrs = LocalRecSys(return_cloth_fields = [\"clothes_id\"])\n",
    "\n",
    "# score не возвращается, т.к это уже часть outfit. return_cloth_fields - для"
   ]
  },
  {
   "cell_type": "code",
   "execution_count": 16,
   "metadata": {},
   "outputs": [],
   "source": [
    "outfits = lrs.forward(upper_clothes=upper_clothes,\n",
    "            lower_clothes=lower_clothes,\n",
    "            dresses_clothes=dress_clothes,\n",
    "           # outerwear_clothes=outerwear_clothes,\n",
    "            prompt = None,#'beachwear',# 'clothes for cinema', # \"clothes for theatre\",#\"beachwear\",#\"clothes for beach\", #\"party clothes\", #\n",
    "\n",
    "            sample_amount=10\n",
    "            )"
   ]
  },
  {
   "cell_type": "code",
   "execution_count": 17,
   "metadata": {},
   "outputs": [
    {
     "data": {
      "text/plain": [
       "[{'clothes': [{'clothes_id': 2671}, {'clothes_id': 3252}]},\n",
       " {'clothes': [{'clothes_id': 5642}, {'clothes_id': 6}]},\n",
       " {'clothes': [{'clothes_id': 5674}, {'clothes_id': 6062}]},\n",
       " {'clothes': [{'clothes_id': 5642}, {'clothes_id': 6062}]},\n",
       " {'clothes': [{'clothes_id': 6195}, {'clothes_id': 6}]},\n",
       " {'clothes': [{'clothes_id': 2879}, {'clothes_id': 6062}]},\n",
       " {'clothes': [{'clothes_id': 2998}, {'clothes_id': 6}]},\n",
       " {'clothes': [{'clothes_id': 2671}, {'clothes_id': 6062}]},\n",
       " {'clothes': [{'clothes_id': 9143}, {'clothes_id': 6}]},\n",
       " {'clothes': [{'clothes_id': 2998}, {'clothes_id': 3252}]}]"
      ]
     },
     "execution_count": 17,
     "metadata": {},
     "output_type": "execute_result"
    }
   ],
   "source": [
    "outfits"
   ]
  },
  {
   "cell_type": "code",
   "execution_count": null,
   "metadata": {},
   "outputs": [],
   "source": [
    "# sf = torch.nn.Softmax(dim=0)\n",
    "\n",
    "# scores =torch.tensor([outfit['score']/30 for outfit in outfits])\n",
    "# normalized_scores = sf(scores)\n",
    "\n",
    "# top_p_scores = None\n",
    "# top_p_index = None\n",
    "# top_p = 0.9\n",
    "# for i, score in enumerate(normalized_scores):\n",
    "#     if normalized_scores[:i].sum() > top_p:\n",
    "#         top_p_scores = normalized_scores[:i]\n",
    "#         top_p_index = i\n",
    "#         break\n",
    "# top_p_scores"
   ]
  },
  {
   "cell_type": "code",
   "execution_count": null,
   "metadata": {},
   "outputs": [
    {
     "ename": "NameError",
     "evalue": "name 'top_p_index' is not defined",
     "output_type": "error",
     "traceback": [
      "\u001b[0;31m---------------------------------------------------------------------------\u001b[0m",
      "\u001b[0;31mNameError\u001b[0m                                 Traceback (most recent call last)",
      "Cell \u001b[0;32mIn[13], line 24\u001b[0m\n\u001b[1;32m     20\u001b[0m             axs[i, j]\u001b[38;5;241m.\u001b[39mimshow(cloth[\u001b[38;5;124m'\u001b[39m\u001b[38;5;124mcloth\u001b[39m\u001b[38;5;124m'\u001b[39m])\n\u001b[1;32m     22\u001b[0m \u001b[38;5;66;03m#    axs[1, 1].scatter(x, y)\u001b[39;00m\n\u001b[0;32m---> 24\u001b[0m \u001b[43mplot_outfits\u001b[49m\u001b[43m(\u001b[49m\u001b[43moutfits\u001b[49m\u001b[43m)\u001b[49m    \n",
      "Cell \u001b[0;32mIn[13], line 4\u001b[0m, in \u001b[0;36mplot_outfits\u001b[0;34m(outfits_)\u001b[0m\n\u001b[1;32m      3\u001b[0m \u001b[38;5;28;01mdef\u001b[39;00m \u001b[38;5;21mplot_outfits\u001b[39m(outfits_):\n\u001b[0;32m----> 4\u001b[0m     outfits \u001b[38;5;241m=\u001b[39m outfits_[:\u001b[43mtop_p_index\u001b[49m]\n\u001b[1;32m      6\u001b[0m     fig, axs \u001b[38;5;241m=\u001b[39m plt\u001b[38;5;241m.\u001b[39msubplots(\u001b[38;5;28mlen\u001b[39m(outfits), \u001b[38;5;241m3\u001b[39m)\n\u001b[1;32m      7\u001b[0m     \u001b[38;5;28;01mfor\u001b[39;00m i, outfit \u001b[38;5;129;01min\u001b[39;00m \u001b[38;5;28menumerate\u001b[39m(outfits):\n\u001b[1;32m      8\u001b[0m         \u001b[38;5;66;03m#title =  * 3\u001b[39;00m\n",
      "\u001b[0;31mNameError\u001b[0m: name 'top_p_index' is not defined"
     ]
    }
   ],
   "source": [
    "from matplotlib import pyplot as plt\n",
    "plt.rcParams[\"figure.figsize\"] = (20,70)\n",
    "def plot_outfits(outfits_):\n",
    "    outfits = outfits_[:top_p_index]\n",
    "\n",
    "    fig, axs = plt.subplots(len(outfits), 3)\n",
    "    for i, outfit in enumerate(outfits):\n",
    "        #title =  * 3\n",
    "        total_score = top_p_scores[i]# outfit['score']\n",
    "        axs[i,0].set_title(f'total: {total_score}')\n",
    "\n",
    "        prompt_corr = outfit['prompt_corr']\n",
    "        axs[i,1].set_title(f'prompt_corr: {prompt_corr}')\n",
    "\n",
    "        clothes_score = outfit['clothes_score']\n",
    "        axs[i,2].set_title(f'clothes_score: {clothes_score}')\n",
    "\n",
    "                           \n",
    "        for j, cloth in enumerate(outfit['clothes']):\n",
    "            axs[i, j].imshow(cloth['cloth'])\n",
    "\n",
    "#    axs[1, 1].scatter(x, y)\n",
    "\n",
    "plot_outfits(outfits)    "
   ]
  },
  {
   "cell_type": "code",
   "execution_count": null,
   "metadata": {},
   "outputs": [
    {
     "data": {
      "text/plain": [
       "array([0, 4, 2])"
      ]
     },
     "execution_count": 364,
     "metadata": {},
     "output_type": "execute_result"
    }
   ],
   "source": []
  },
  {
   "cell_type": "code",
   "execution_count": null,
   "metadata": {},
   "outputs": [
    {
     "data": {
      "text/plain": [
       "<Axes: xlabel='scores', ylabel='Count'>"
      ]
     },
     "execution_count": 297,
     "metadata": {},
     "output_type": "execute_result"
    },
    {
     "data": {
      "image/png": "[encoded data removed]",
      "text/plain": [
       "<Figure size 600x300 with 1 Axes>"
      ]
     },
     "metadata": {},
     "output_type": "display_data"
    }
   ],
   "source": [
    "from matplotlib import pyplot as plt\n",
    "import seaborn as sns\n",
    "plt.rcParams[\"figure.figsize\"] = (6,3)\n",
    "import pandas as pd\n",
    "data = pd.DataFrame({\"scores\":[outfit['score'] for outfit in outfits]}) # ['scores']\n",
    "sns.histplot(data=data,\n",
    "             x=\"scores\",\n",
    "             kde=True)\n"
   ]
  },
  {
   "cell_type": "code",
   "execution_count": null,
   "metadata": {},
   "outputs": [
    {
     "data": {
      "text/plain": [
       "([<matplotlib.patches.Wedge at 0x768b9cd03430>,\n",
       "  <matplotlib.patches.Wedge at 0x768b9c00d5d0>,\n",
       "  <matplotlib.patches.Wedge at 0x768b9cd03850>,\n",
       "  <matplotlib.patches.Wedge at 0x768b9cd01600>,\n",
       "  <matplotlib.patches.Wedge at 0x768b9cd01060>,\n",
       "  <matplotlib.patches.Wedge at 0x768b9cd03b20>,\n",
       "  <matplotlib.patches.Wedge at 0x768b9cd01c60>,\n",
       "  <matplotlib.patches.Wedge at 0x768b9cd02800>,\n",
       "  <matplotlib.patches.Wedge at 0x768b9cd01f30>,\n",
       "  <matplotlib.patches.Wedge at 0x768b9cd02a10>,\n",
       "  <matplotlib.patches.Wedge at 0x768b9cd03670>,\n",
       "  <matplotlib.patches.Wedge at 0x768bf461a650>,\n",
       "  <matplotlib.patches.Wedge at 0x768bf461aa70>,\n",
       "  <matplotlib.patches.Wedge at 0x768b9cf89990>,\n",
       "  <matplotlib.patches.Wedge at 0x768b9cf8a260>,\n",
       "  <matplotlib.patches.Wedge at 0x768b9cf88160>,\n",
       "  <matplotlib.patches.Wedge at 0x768b9cf88820>,\n",
       "  <matplotlib.patches.Wedge at 0x768b9cf8b1f0>,\n",
       "  <matplotlib.patches.Wedge at 0x768b9cf89570>],\n",
       " [Text(0.9647243562007043, 0.5284949541416046, ''),\n",
       "  Text(0.09715827957844438, 1.0957008116768725, ''),\n",
       "  Text(-0.7133772084498623, 0.8373129393866322, ''),\n",
       "  Text(-1.048544374557765, 0.33249766101924066, ''),\n",
       "  Text(-1.0887944009662522, -0.15661019259467138, ''),\n",
       "  Text(-0.9456206146394553, -0.5619623236204531, ''),\n",
       "  Text(-0.6848035947201693, -0.8608391467970856, ''),\n",
       "  Text(-0.3662088580192748, -1.0372516918801429, ''),\n",
       "  Text(-0.04756871245737705, -1.0989709812343307, ''),\n",
       "  Text(0.25196729672858215, -1.0707532308516705, ''),\n",
       "  Text(0.5019929193188124, -0.978776332444638, ''),\n",
       "  Text(0.6848838669298979, -0.8607752835782112, ''),\n",
       "  Text(0.8236028212861556, -0.7291628026507422, ''),\n",
       "  Text(0.9280985232332077, -0.5904516332201473, ''),\n",
       "  Text(1.0010298714936177, -0.45600350478639035, ''),\n",
       "  Text(1.045717750978507, -0.34128343834480646, ''),\n",
       "  Text(1.073372485857655, -0.24056497376750077, ''),\n",
       "  Text(1.0908457249429946, -0.14161781093348794, ''),\n",
       "  Text(1.0990104643729703, -0.04664760656998724, '')])"
      ]
     },
     "execution_count": 298,
     "metadata": {},
     "output_type": "execute_result"
    },
    {
     "data": {
      "image/png": "[encoded data removed]",
      "text/plain": [
       "<Figure size 600x300 with 1 Axes>"
      ]
     },
     "metadata": {},
     "output_type": "display_data"
    }
   ],
   "source": [
    "\n",
    "#data = pd.DataFrame({\"scores\":top_p_scores.tolist()})\n",
    "plt.pie(top_p_scores.tolist(), )#, colors = colors, autopct='%.0f%%')\n",
    "#data"
   ]
  },
  {
   "cell_type": "code",
   "execution_count": null,
   "metadata": {},
   "outputs": [],
   "source": []
  },
  {
   "cell_type": "code",
   "execution_count": null,
   "metadata": {},
   "outputs": [],
   "source": []
  }
 ],
 "metadata": {
  "kernelspec": {
   "display_name": "Python 3",
   "language": "python",
   "name": "python3"
  },
  "language_info": {
   "codemirror_mode": {
    "name": "ipython",
    "version": 3
   },
   "file_extension": ".py",
   "mimetype": "text/x-python",
   "name": "python",
   "nbconvert_exporter": "python",
   "pygments_lexer": "ipython3",
   "version": "3.10.12"
  }
 },
 "nbformat": 4,
 "nbformat_minor": 2
}
