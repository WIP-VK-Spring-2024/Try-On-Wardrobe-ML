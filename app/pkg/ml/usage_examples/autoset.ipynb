{
 "cells": [
  {
   "cell_type": "code",
   "execution_count": null,
   "metadata": {},
   "outputs": [],
   "source": [
    "import sys\n",
    "import os\n",
    "os.environ[\"HF_ENDPOINT\"] = \"https://hf-mirror.com\"\n",
    "\n",
    "#sys.path.insert(0, \"/usr/src/app/app\")\n",
    "def import_path(fullpath):\n",
    "    \"\"\" \n",
    "    Import a file with full path specification. Allows one to\n",
    "    import from anywhere, something __import__ does not do. \n",
    "    \"\"\"\n",
    "    path, filename = os.path.split(fullpath)\n",
    "    filename, ext = os.path.splitext(filename)\n",
    "    sys.path.append(path)\n",
    "    module = __import__(filename)\n",
    "   # reload(module) # Might be out of date\n",
    "    del sys.path[-1]\n",
    "    return module\n",
    "\n",
    "import_path(\"/usr/src/app/app\")"
   ]
  },
  {
   "cell_type": "code",
   "execution_count": null,
   "metadata": {},
   "outputs": [],
   "source": [
    "from PIL import Image\n",
    "\n",
    "tmp_path = \"/usr/src/app/volume/tmp_images\"\n",
    "if not os.path.exists(tmp_path):\n",
    "    os.mkdir(tmp_path)\n",
    "def save_image(pil_img:Image.Image, file_name=\"1.png\"):\n",
    "    im_path = os.path.join(tmp_path, file_name)\n",
    "    pil_img.save(im_path)\n"
   ]
  },
  {
   "cell_type": "code",
   "execution_count": null,
   "metadata": {},
   "outputs": [],
   "source": [
    "from app.pkg.ml.try_on.preprocessing.aggregator import ClothProcessor,  BackgroundModels\n",
    "\n",
    "cp = ClothProcessor(BackgroundModels.SegFormerB3)"
   ]
  },
  {
   "cell_type": "code",
   "execution_count": null,
   "metadata": {},
   "outputs": [],
   "source": [
    "import os\n",
    "from app.pkg.ml.auto_clothing_set.autoset import LocalRecSys\n",
    "\n",
    "from app.pkg.ml.buffer_converters import BytesConverter\n",
    "from PIL import Image\n",
    "from app.pkg.models.app.image_category import ImageCategory\n",
    "import random\n",
    "bc = BytesConverter()\n",
    "\n",
    "\n",
    "DATA_PATH = \"/usr/src/app/data\"\n",
    "def read_clothes(sub_folder):\n",
    "    \n",
    "    images_folder = os.path.join(DATA_PATH, sub_folder)\n",
    "    assert os.path.exists(images_folder)\n",
    "    im_paths = os.listdir(images_folder)\n",
    "    abs_im_path = [os.path.join(images_folder, im_path) for im_path in im_paths]\n",
    "    return abs_im_path\n",
    "\n",
    "\n",
    "outerwear_clothes_paths = read_clothes(\"outerwear\") # [\"/usr/src/app/data/upper/b_bloose.png\", \"/usr/src/app/data/upper/b_jacket.png\"]\n",
    "upper_clothes_paths = read_clothes(\"upper\") # [ \"/usr/src/app/data/upper/t-shirt-blue.png\",\"/usr/src/app/data/upper/t-shirt-miami.png\", \"/usr/src/app/data/upper/b_t-shirt-2.png\", \"/usr/src/app/data/upper/b_t-shirt-3.png\", \"/usr/src/app/data/upper/t-shirt-dc.png\", \"/usr/src/app/data/upper/t-shirt-dc2.png\", \"/usr/src/app/data/upper/t-shirt.png\" ]\n",
    "lower_clothes_paths = read_clothes(\"lower\")  # [\"/usr/src/app/data/lower/b_black_jeans.png\", \"/usr/src/app/data/lower/b_shorts.png\", \"/usr/src/app/data/lower/jeans-dc.png\", \"/usr/src/app/data/lower/shorts-dc.png\" ]\n",
    "dress_clothes_paths = read_clothes(\"dresses\") # [\"/usr/src/app/data/dresses/1.png\", \"/usr/src/app/data/dresses/2.png\", \"/usr/src/app/data/dresses/dress-dc.png\"]\n",
    "\n",
    "user_images = [f\"{DATA_PATH}/human/brayan_krenston.png\"]\n",
    "\n",
    "def convert_cloth_to_dict(x, category=None):\n",
    "    res = []\n",
    "    for i in x:\n",
    "        image = Image.open(i)\n",
    "        im_no_back = cp.model_background(image)\n",
    "        im_bytes = bc.image_to_bytes(im_no_back)\n",
    "        res.append({'cloth':im_bytes, 'category':category, \"clothes_id\":random.randint(0, 9999)})\n",
    "    return res\n",
    "\n",
    "def convert_user_to_dict(x):\n",
    "    res = []\n",
    "    for i in x:\n",
    "        image = Image.open(i)\n",
    "        im_no_back = cp.model_background(image)\n",
    "        im_bytes = bc.image_to_bytes(im_no_back)\n",
    "        res.append({'image':im_bytes,})\n",
    "    return res\n",
    "\n",
    "#        im_white_back = cp.model_background.replace_background_RGBA(im_no_back)\n",
    "\n",
    "\n",
    "upper_clothes = convert_cloth_to_dict(upper_clothes_paths, ImageCategory.UPPER_BODY)\n",
    "lower_clothes = convert_cloth_to_dict(lower_clothes_paths, ImageCategory.LOWER_BODY)\n",
    "dress_clothes = convert_cloth_to_dict(dress_clothes_paths, ImageCategory.DRESSES)\n",
    "outerwear_clothes = convert_cloth_to_dict(outerwear_clothes_paths, ImageCategory.UPPER_BODY)\n",
    "user_images = convert_user_to_dict(user_images)\n"
   ]
  },
  {
   "cell_type": "code",
   "execution_count": null,
   "metadata": {},
   "outputs": [],
   "source": [
    "# save_image(bc.bytes_to_image(lower_clothes[2]['cloth']))"
   ]
  },
  {
   "cell_type": "code",
   "execution_count": null,
   "metadata": {},
   "outputs": [],
   "source": [
    "from typing import Dict, Union, List\n",
    "import io\n",
    "\n",
    "import torch\n",
    "from transformers import AutoProcessor, CLIPModel, AutoTokenizer\n",
    "from torch.nn import Softmax\n",
    "from PIL import Image\n",
    "import numpy as np\n",
    "\n",
    "from app.pkg.ml.buffer_converters import BytesConverter\n",
    "from app.pkg.ml.try_on.preprocessing.cloth import ClothPreprocessor"
   ]
  },
  {
   "cell_type": "code",
   "execution_count": null,
   "metadata": {},
   "outputs": [],
   "source": [
    "def sum_normalize(array):\n",
    "    if isinstance(array, list):\n",
    "        array = np.array(array)\n",
    "    return array/array.sum()\n",
    "# a = [0.1, 0.4, 0.4]\n",
    "# sum_normalize(a)"
   ]
  },
  {
   "cell_type": "code",
   "execution_count": null,
   "metadata": {},
   "outputs": [],
   "source": []
  },
  {
   "cell_type": "code",
   "execution_count": null,
   "metadata": {},
   "outputs": [],
   "source": [
    "lrs = LocalRecSys(return_cloth_fields=[\"clothes_id\", 'cloth'])\n",
    "# score не возвращается, т.к это уже часть outfit. return_cloth_fields - для"
   ]
  },
  {
   "cell_type": "code",
   "execution_count": null,
   "metadata": {},
   "outputs": [],
   "source": [
    "lrs.get_max_sets_amount(\n",
    "            upper_clothes=upper_clothes[:],\n",
    "            lower_clothes=lower_clothes[:],\n",
    "            dresses_clothes=dress_clothes[:],\n",
    "            outerwear_clothes=outerwear_clothes[:],\n",
    ")"
   ]
  },
  {
   "cell_type": "code",
   "execution_count": null,
   "metadata": {},
   "outputs": [],
   "source": [
    "outfits = lrs.forward(\n",
    "            upper_clothes=upper_clothes[:],\n",
    "            lower_clothes=lower_clothes[:],\n",
    "            dresses_clothes=dress_clothes[:],\n",
    "            outerwear_clothes=outerwear_clothes[:],\n",
    "            prompt = \"\",#'beachwear',# 'clothes for cinema', # \"clothes for theatre\",#\"beachwear\",#\"clothes for beach\", #\"party clothes\", #\n",
    "            sample_amount=243\n",
    "            )"
   ]
  },
  {
   "cell_type": "code",
   "execution_count": null,
   "metadata": {},
   "outputs": [],
   "source": [
    "outfits[0]"
   ]
  },
  {
   "cell_type": "code",
   "execution_count": null,
   "metadata": {},
   "outputs": [],
   "source": [
    "import numpy as np\n",
    "from sklearn.manifold import TSNE\n",
    "from sklearn.cluster import KMeans\n",
    "\n",
    "X = torch.concatenate([outfit['tensor'].cpu().unsqueeze(0) for outfit in outfits]).numpy()\n",
    "#np.array([[0, 0, 0], [0, 1, 1], [1, 0, 1], [1, 1, 1]])\n",
    "\n",
    "X_embedded = TSNE(n_components=2, learning_rate='auto',\n",
    "                   init='random', perplexity=3).fit_transform(X)\n",
    "X_embedded.shape"
   ]
  },
  {
   "cell_type": "code",
   "execution_count": null,
   "metadata": {},
   "outputs": [],
   "source": [
    "from matplotlib import pyplot as plt\n",
    "kmeans = KMeans(n_clusters=8, random_state=0)\n",
    "labels = kmeans.fit_predict(X)\n",
    "\n",
    "# Plot the data with cluster colors\n",
    "plt.scatter(X_embedded[:, 0], X_embedded[:, 1], c=labels)\n",
    "\n",
    "plt.xlabel('Feature 1')\n",
    "plt.ylabel('Feature 2')\n",
    "plt.title('K-Means Clustering')\n",
    "plt.grid()\n",
    "plt.show()"
   ]
  },
  {
   "cell_type": "code",
   "execution_count": null,
   "metadata": {},
   "outputs": [],
   "source": [
    "from plotly import express as px\n",
    "import pandas as pd\n",
    "\n",
    "def get_df(data:list, labels):\n",
    "    return {\n",
    "     \"x\":data[:,0],\n",
    "     \"y\":data[:,1],\n",
    "     \"label\":labels,\n",
    "     'index':range(len(data))\n",
    "    #  \"uuid\":[outfit['uuid'] for outfit in data]\n",
    "     }\n",
    "\n",
    "\n",
    "\n",
    "user_df = pd.DataFrame(get_df(X_embedded, kmeans.labels_))\n",
    "\n",
    "px.scatter(user_df, x='x', y='y', color='label', hover_data=['index']);\n"
   ]
  },
  {
   "cell_type": "code",
   "execution_count": null,
   "metadata": {},
   "outputs": [],
   "source": [
    "# from matplotlib import pyplot as plt\n",
    "# plt.rcParams[\"figure.figsize\"] = (20,70)\n",
    "def plot_outfits(outfits):\n",
    " \n",
    "    fig, axs = plt.subplots(len(outfits), 3)\n",
    "    for i, outfit in enumerate(outfits):\n",
    "        #title =  * 3\n",
    "        # axs[i,0].set_title(f'total: {total_score}')\n",
    "\n",
    "        # prompt_corr = outfit['prompt_corr']\n",
    "        # axs[i,1].set_title(f'prompt_corr: {prompt_corr}')\n",
    "\n",
    "        # clothes_score = outfit['clothes_score']\n",
    "        # axs[i,2].set_title(f'clothes_score: {clothes_score}')\n",
    "\n",
    "                           \n",
    "        for j, cloth in enumerate(outfit['clothes']):\n",
    "            axs[i, j].imshow(cloth['cloth'])\n",
    "\n",
    "def plot_outfit(outfits, index):\n",
    " \n",
    "    fig, axs = plt.subplots(1, 3)\n",
    "    outfit = outfits[index]                   \n",
    "    for j, cloth in enumerate(outfit['clothes']):\n",
    "        axs[j].imshow(cloth['cloth'])\n",
    "\n",
    "\n",
    "\n",
    "# for i in [186, 13]:\n",
    "#     plot_outfit(outfits, i)\n"
   ]
  },
  {
   "cell_type": "code",
   "execution_count": null,
   "metadata": {},
   "outputs": [],
   "source": []
  },
  {
   "cell_type": "code",
   "execution_count": null,
   "metadata": {},
   "outputs": [],
   "source": [
    "from matplotlib import pyplot as plt\n",
    "import seaborn as sns\n",
    "plt.rcParams[\"figure.figsize\"] = (6,3)\n",
    "import pandas as pd\n",
    "data = pd.DataFrame({\"scores\":[outfit['score'] for outfit in outfits]}) # ['scores']\n",
    "sns.histplot(data=data,\n",
    "             x=\"scores\",\n",
    "             kde=True)\n"
   ]
  }
 ],
 "metadata": {
  "kernelspec": {
   "display_name": "Python 3",
   "language": "python",
   "name": "python3"
  },
  "language_info": {
   "codemirror_mode": {
    "name": "ipython",
    "version": 3
   },
   "file_extension": ".py",
   "mimetype": "text/x-python",
   "name": "python",
   "nbconvert_exporter": "python",
   "pygments_lexer": "ipython3",
   "version": "3.10.12"
  }
 },
 "nbformat": 4,
 "nbformat_minor": 2
}
