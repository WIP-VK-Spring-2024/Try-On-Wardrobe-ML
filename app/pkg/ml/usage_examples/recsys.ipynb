{
  "cells": [
    {
      "cell_type": "code",
      "execution_count": null,
      "metadata": {
        "id": "8aYMWEBaWpry"
      },
      "outputs": [],
      "source": [
        "import sys\n",
        "import os\n",
        "#sys.path.insert(0, \"/usr/src/app/app\")\n",
        "def import_path(fullpath):\n",
        "    \"\"\" \n",
        "    Import a file with full path specification. Allows one to\n",
        "    import from anywhere, something __import__ does not do. \n",
        "    \"\"\"\n",
        "    path, filename = os.path.split(fullpath)\n",
        "    filename, ext = os.path.splitext(filename)\n",
        "    sys.path.append(path)\n",
        "    module = __import__(filename)\n",
        "   # reload(module) # Might be out of date\n",
        "    del sys.path[-1]\n",
        "    return module\n",
        "import_path(\"/usr/src/app/app\")"
      ]
    },
    {
      "cell_type": "code",
      "execution_count": null,
      "metadata": {},
      "outputs": [],
      "source": [
        "import torch\n",
        "torch.concat([torch.tensor([1.1,2,3]).unsqueeze(0), torch.tensor([1,2,3]).unsqueeze(0)]).mean(0)\n"
      ]
    },
    {
      "cell_type": "code",
      "execution_count": null,
      "metadata": {
        "execution": {
          "iopub.execute_input": "2024-04-28T10:35:14.408991Z",
          "iopub.status.busy": "2024-04-28T10:35:14.408402Z",
          "iopub.status.idle": "2024-04-28T10:35:14.454982Z",
          "shell.execute_reply": "2024-04-28T10:35:14.453734Z",
          "shell.execute_reply.started": "2024-04-28T10:35:14.408948Z"
        },
        "id": "dkMBWtWEWprz",
        "trusted": true
      },
      "outputs": [],
      "source": [
        "import numpy as np\n",
        "from matplotlib import pyplot as plt\n",
        "\n",
        "\n",
        "cl_centers = [[3, 3], [-3.2, 6.4], [6, -2], [-6, -2]]\n",
        "\n",
        "points_per_cluster = 30\n",
        "users_data = np.random.randn(points_per_cluster, 2)\n",
        "\n",
        "for cl_center in cl_centers:\n",
        "\n",
        "    users_data_cl = np.random.randn(points_per_cluster, 2)\n",
        "    users_data_cl[:, 0] = cl_center[0] + users_data_cl[:, 0]\n",
        "    users_data_cl[:, 1] = cl_center[1] + users_data_cl[:, 1]\n",
        "\n",
        "    users_data = np.concatenate((users_data, users_data_cl))\n",
        "\n",
        "\n"
      ]
    },
    {
      "cell_type": "code",
      "execution_count": null,
      "metadata": {
        "execution": {
          "iopub.execute_input": "2024-04-28T10:35:14.461241Z",
          "iopub.status.busy": "2024-04-28T10:35:14.460306Z",
          "iopub.status.idle": "2024-04-28T10:35:14.848133Z",
          "shell.execute_reply": "2024-04-28T10:35:14.846397Z",
          "shell.execute_reply.started": "2024-04-28T10:35:14.461198Z"
        },
        "id": "0Mu0utAcWpr0",
        "outputId": "db5ab320-4713-44ed-eac8-fa5bd03ab766",
        "trusted": true
      },
      "outputs": [],
      "source": [
        "user_points = 4\n",
        "\n",
        "\n",
        "us_centers = [[3.12, 3.32], [-3.23, 6.34], [6.31, -2.21],]\n",
        "\n",
        "user_data = np.random.randn(user_points, 2) + 0.2\n",
        "\n",
        "for cl_center in us_centers:\n",
        "\n",
        "#     x = cl_center[0] * np.random.rand(100, 1)\n",
        "#     y = cl_center[1] * np.random.rand(100, 1)\n",
        "    user_data_cl = np.random.randn(user_points, 2)\n",
        "    user_data_cl[:, 0] = cl_center[0] + user_data_cl[:, 0]\n",
        "    user_data_cl[:, 1] = cl_center[1] + user_data_cl[:, 1]\n",
        "\n",
        "    user_data = np.concatenate((user_data, user_data_cl))\n",
        "\n",
        "\n",
        "\n",
        "plt.scatter(users_data[:, 0], users_data[:, 1])\n",
        "plt.scatter(user_data[:, 0], user_data[:, 1])\n",
        "plt.savefig('./volume/test_data.jpg')\n",
        "plt.close()"
      ]
    },
    {
      "cell_type": "code",
      "execution_count": null,
      "metadata": {},
      "outputs": [],
      "source": [
        "from app.pkg.ml.outfits_recsys.recsys import CrossUsersOutfitRecSys\n",
        "rec = CrossUsersOutfitRecSys()\n",
        "\n",
        "##### ONLY FOR TEST\n",
        "from app.pkg.ml.buffer_converters import BytesConverter\n",
        "bc = BytesConverter()\n",
        "\n",
        "outfits = [{'user_id':i%5,'outfit_id':i, 'tensor':bc.torch_to_bytes(emb)} for i, emb in enumerate(users_data)]\n",
        "user_outfits = [{'user_id':i%5, 'outfit_id':i, 'tensor':bc.torch_to_bytes(emb)} for i, emb in enumerate(user_data)]\n",
        "\n",
        "#### ONLY FOR TEST\n",
        "\n",
        "rec.update_global_outfits(outfits)\n"
      ]
    },
    {
      "cell_type": "code",
      "execution_count": null,
      "metadata": {},
      "outputs": [],
      "source": [
        "\n",
        "recomends_ids = rec.recommend_from_bytes(user_outfits)\n",
        "recomends_ids\n"
      ]
    },
    {
      "cell_type": "code",
      "execution_count": null,
      "metadata": {},
      "outputs": [],
      "source": [
        "# import pandas as pd\n",
        "\n",
        "# def get_df(data:list, label):\n",
        "#     return {\n",
        "#      \"x\":[outfit['tensor'][0] for outfit in data],\n",
        "#      \"y\":[outfit['tensor'][1] for outfit in data],\n",
        "#      \"label\":[label for i in range(len(data))],\n",
        "#      \"outfit_id\":[outfit['outfit_id'] for outfit in data]\n",
        "#      }\n",
        "\n",
        "\n",
        "\n",
        "# users_df = pd.DataFrame(get_df(outfits, '0'))\n",
        "\n",
        "# user_df = pd.DataFrame(get_df(user_outfits, '1'))\n",
        "\n",
        "# all_df = pd.concat((users_df, user_df))\n",
        "# all_df;"
      ]
    },
    {
      "cell_type": "code",
      "execution_count": null,
      "metadata": {},
      "outputs": [],
      "source": [
        "# import plotly.express as px\n",
        "\n",
        "# fig = px.scatter(all_df, x='x', y='y', color='label', hover_data= [\"outfit_id\"]);\n",
        "# fig.write_html(\"./volume/vis_test_data.html\")"
      ]
    },
    {
      "cell_type": "code",
      "execution_count": null,
      "metadata": {},
      "outputs": [],
      "source": []
    }
  ],
  "metadata": {
    "colab": {
      "name": "faiss_experiments",
      "provenance": []
    },
    "kaggle": {
      "accelerator": "none",
      "dataSources": [],
      "dockerImageVersionId": 30698,
      "isGpuEnabled": false,
      "isInternetEnabled": true,
      "language": "python",
      "sourceType": "notebook"
    },
    "kernelspec": {
      "display_name": "Python 3",
      "language": "python",
      "name": "python3"
    },
    "language_info": {
      "codemirror_mode": {
        "name": "ipython",
        "version": 3
      },
      "file_extension": ".py",
      "mimetype": "text/x-python",
      "name": "python",
      "nbconvert_exporter": "python",
      "pygments_lexer": "ipython3",
      "version": "3.1.undefined"
    }
  },
  "nbformat": 4,
  "nbformat_minor": 0
}
