{
 "cells": [
  {
   "cell_type": "code",
   "execution_count": 1,
   "metadata": {},
   "outputs": [
    {
     "data": {
      "text/plain": [
       "<module 'app' from '/usr/src/app/app/__init__.py'>"
      ]
     },
     "execution_count": 1,
     "metadata": {},
     "output_type": "execute_result"
    }
   ],
   "source": [
    "import sys\n",
    "import os\n",
    "#sys.path.insert(0, \"/usr/src/app/app\")\n",
    "def import_path(fullpath):\n",
    "    \"\"\" \n",
    "    Import a file with full path specification. Allows one to\n",
    "    import from anywhere, something __import__ does not do. \n",
    "    \"\"\"\n",
    "    path, filename = os.path.split(fullpath)\n",
    "    filename, ext = os.path.splitext(filename)\n",
    "    sys.path.append(path)\n",
    "    module = __import__(filename)\n",
    "   # reload(module) # Might be out of date\n",
    "    del sys.path[-1]\n",
    "    return module\n",
    "import_path(\"/usr/src/app/app\")"
   ]
  },
  {
   "cell_type": "code",
   "execution_count": 2,
   "metadata": {},
   "outputs": [
    {
     "name": "stderr",
     "output_type": "stream",
     "text": [
      "/usr/local/lib/python3.10/dist-packages/tqdm/auto.py:21: TqdmWarning: IProgress not found. Please update jupyter and ipywidgets. See https://ipywidgets.readthedocs.io/en/stable/user_install.html\n",
      "  from .autonotebook import tqdm as notebook_tqdm\n"
     ]
    }
   ],
   "source": [
    "from PIL import Image\n",
    "\n",
    "from app.pkg.ml.try_on.preprocessing.aggregator import ClothProcessor\n",
    "from app.pkg.ml.try_on.preprocessing.aggregator import HumanProcessor\n",
    "from app.pkg.ml.try_on.lady_vton import LadyVtonAggregator\n",
    "from app.pkg.ml.try_on.postprocessing.fix_face import FaceFixer\n",
    "from app.pkg.models.app.image_category import ImageCategory\n",
    "from app.pkg.ml.buffer_converters import BytesConverter\n",
    "bc = BytesConverter()\n"
   ]
  },
  {
   "cell_type": "code",
   "execution_count": null,
   "metadata": {},
   "outputs": [],
   "source": [
    "human_model = HumanProcessor()\n",
    "cloth_model = ClothProcessor()\n",
    "try_on_model = LadyVtonAggregator()\n"
   ]
  },
  {
   "cell_type": "code",
   "execution_count": 4,
   "metadata": {},
   "outputs": [],
   "source": [
    "\n",
    "# cloth_fp = \"/usr/src/app/data/example/white_pants.png\"\n",
    "clothes = [{\"fp\":\"/usr/src/app/data/example/white_pants.png\", \"category\":ImageCategory.LOWER_BODY},\n",
    "              {\"fp\": \"/usr/src/app/data/example/white_pants.png\", \"category\":ImageCategory.LOWER_BODY},]\n",
    "human_fp = \"/usr/src/app/data/example/woman_resize.png\""
   ]
  },
  {
   "cell_type": "code",
   "execution_count": null,
   "metadata": {},
   "outputs": [],
   "source": [
    "\n",
    "user_image = Image.open(human_fp)\n",
    "for cloth in clothes:\n",
    "    cloth_image = Image.open(cloth['fp'])\n",
    "    no_background_image = cloth_model.model_background(cloth_image)\n",
    "    no_background_image_bytes = bc.image_to_bytes(no_background_image)\n",
    "    cloth['cloth'] = no_background_image_bytes\n",
    "\n",
    "\n",
    "\n",
    "# no_background_image = cloth_model.model_background(cloth_image)\n",
    "# no_background_image_bytes = bc.image_to_bytes(no_background_image)\n",
    "# result = {}\n",
    "# result[\"cloth\"] = no_background_image_bytes   \n",
    "# processed_cloth = result\n",
    "\n",
    "processed_user = human_model.process(user_image)\n",
    "\n",
    "\n",
    "# Try on\n",
    "\n",
    "try_on = try_on_model.batch_try_on(processed_user, clothes=clothes)\n",
    "\n",
    "# bc.bytes_to_image(try_on).save(\"/usr/src/app/volume/tmp/try_on_lower.jpg\")\n",
    "#  python3 -m app.pkg.ml.usage_examples.try_on "
   ]
  },
  {
   "cell_type": "code",
   "execution_count": 5,
   "metadata": {},
   "outputs": [],
   "source": [
    "\n",
    "# user_image = Image.open(human_fp)\n",
    "# cloth_image = Image.open(cloth_fp)\n",
    "\n",
    "\n",
    "# processed_user = human_model.process(user_image)\n",
    "\n",
    "# no_background_image = cloth_model.model_background(cloth_image)\n",
    "# no_background_image_bytes = bc.image_to_bytes(no_background_image)\n",
    "# result = {}\n",
    "# result[\"cloth\"] = no_background_image_bytes   \n",
    "# processed_cloth = result\n",
    "\n",
    "# # Try on\n",
    "# processed_user.update(\n",
    "# {\n",
    "#     \"category\": \"upper_body\",\n",
    "#     # \"cloth\": no_background_image_bytes,\n",
    "# }\n",
    "# )\n"
   ]
  },
  {
   "cell_type": "code",
   "execution_count": 4,
   "metadata": {},
   "outputs": [],
   "source": [
    "# try_on = try_on_model(processed_user)"
   ]
  }
 ],
 "metadata": {
  "kernelspec": {
   "display_name": "Python 3",
   "language": "python",
   "name": "python3"
  },
  "language_info": {
   "codemirror_mode": {
    "name": "ipython",
    "version": 3
   },
   "file_extension": ".py",
   "mimetype": "text/x-python",
   "name": "python",
   "nbconvert_exporter": "python",
   "pygments_lexer": "ipython3",
   "version": "3.10.12"
  }
 },
 "nbformat": 4,
 "nbformat_minor": 2
}
